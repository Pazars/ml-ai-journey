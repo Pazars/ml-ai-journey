{
 "cells": [
  {
   "cell_type": "code",
   "execution_count": 1,
   "metadata": {},
   "outputs": [],
   "source": [
    "import torch\n",
    "from torch import nn\n",
    "from torch.utils.data import DataLoader\n",
    "from torchvision import datasets\n",
    "from torchvision.transforms import ToTensor\n"
   ]
  },
  {
   "cell_type": "code",
   "execution_count": 13,
   "metadata": {},
   "outputs": [],
   "source": [
    "LEARNING_RATE = 1e-3\n",
    "BATCH_SIZE = 64\n",
    "EPOCHS = 10\n"
   ]
  },
  {
   "cell_type": "code",
   "execution_count": 3,
   "metadata": {},
   "outputs": [
    {
     "name": "stdout",
     "output_type": "stream",
     "text": [
      "Downloading http://yann.lecun.com/exdb/mnist/train-images-idx3-ubyte.gz\n",
      "Downloading http://yann.lecun.com/exdb/mnist/train-images-idx3-ubyte.gz to data\\MNIST\\raw\\train-images-idx3-ubyte.gz\n"
     ]
    },
    {
     "name": "stderr",
     "output_type": "stream",
     "text": [
      "100.0%\n"
     ]
    },
    {
     "name": "stdout",
     "output_type": "stream",
     "text": [
      "Extracting data\\MNIST\\raw\\train-images-idx3-ubyte.gz to data\\MNIST\\raw\n",
      "\n",
      "Downloading http://yann.lecun.com/exdb/mnist/train-labels-idx1-ubyte.gz\n",
      "Downloading http://yann.lecun.com/exdb/mnist/train-labels-idx1-ubyte.gz to data\\MNIST\\raw\\train-labels-idx1-ubyte.gz\n"
     ]
    },
    {
     "name": "stderr",
     "output_type": "stream",
     "text": [
      "100.0%\n"
     ]
    },
    {
     "name": "stdout",
     "output_type": "stream",
     "text": [
      "Extracting data\\MNIST\\raw\\train-labels-idx1-ubyte.gz to data\\MNIST\\raw\n",
      "\n",
      "Downloading http://yann.lecun.com/exdb/mnist/t10k-images-idx3-ubyte.gz\n",
      "Downloading http://yann.lecun.com/exdb/mnist/t10k-images-idx3-ubyte.gz to data\\MNIST\\raw\\t10k-images-idx3-ubyte.gz\n"
     ]
    },
    {
     "name": "stderr",
     "output_type": "stream",
     "text": [
      "100.0%\n"
     ]
    },
    {
     "name": "stdout",
     "output_type": "stream",
     "text": [
      "Extracting data\\MNIST\\raw\\t10k-images-idx3-ubyte.gz to data\\MNIST\\raw\n",
      "\n",
      "Downloading http://yann.lecun.com/exdb/mnist/t10k-labels-idx1-ubyte.gz\n"
     ]
    },
    {
     "name": "stderr",
     "output_type": "stream",
     "text": [
      "100.0%"
     ]
    },
    {
     "name": "stdout",
     "output_type": "stream",
     "text": [
      "Downloading http://yann.lecun.com/exdb/mnist/t10k-labels-idx1-ubyte.gz to data\\MNIST\\raw\\t10k-labels-idx1-ubyte.gz\n",
      "Extracting data\\MNIST\\raw\\t10k-labels-idx1-ubyte.gz to data\\MNIST\\raw\n",
      "\n"
     ]
    },
    {
     "name": "stderr",
     "output_type": "stream",
     "text": [
      "\n"
     ]
    }
   ],
   "source": [
    "# Download training and test data\n",
    "\n",
    "training_data = datasets.MNIST(\n",
    "    root=\"data\", train=True, download=True, transform=ToTensor()\n",
    ")\n",
    "\n",
    "test_data = datasets.MNIST(\n",
    "    root=\"data\", train=False, download=True, transform=ToTensor()\n",
    ")\n"
   ]
  },
  {
   "cell_type": "code",
   "execution_count": 14,
   "metadata": {},
   "outputs": [],
   "source": [
    "train_dataloader = DataLoader(training_data, batch_size=BATCH_SIZE)\n",
    "test_dataloader = DataLoader(test_data, batch_size=BATCH_SIZE)\n"
   ]
  },
  {
   "cell_type": "code",
   "execution_count": 5,
   "metadata": {},
   "outputs": [],
   "source": [
    "# Define neural network\n",
    "\n",
    "\n",
    "class NeuralNetwork(nn.Module):\n",
    "    def __init__(self):\n",
    "        super(NeuralNetwork, self).__init__()\n",
    "        self.flatten = nn.Flatten()\n",
    "        self.linear_relu_stack = nn.Sequential(\n",
    "            nn.Linear(28 * 28, 512),\n",
    "            nn.ReLU(),\n",
    "            nn.Linear(512, 512),\n",
    "            nn.ReLU(),\n",
    "            nn.Linear(512, 10),\n",
    "        )\n",
    "\n",
    "    def forward(self, x):\n",
    "        x = self.flatten(x)\n",
    "        logits = self.linear_relu_stack(x)\n",
    "        return logits\n"
   ]
  },
  {
   "cell_type": "code",
   "execution_count": 7,
   "metadata": {},
   "outputs": [],
   "source": [
    "# Train and test loops\n",
    "\n",
    "\n",
    "def train_loop(dataloader, model, loss_fn, optimizer):\n",
    "    size = len(dataloader.dataset)\n",
    "    for batch, (X, y) in enumerate(dataloader):\n",
    "        # Compute prediction and loss\n",
    "        pred = model(X)\n",
    "        loss = loss_fn(pred, y)\n",
    "\n",
    "        # Backpropagation\n",
    "        optimizer.zero_grad()\n",
    "        loss.backward()\n",
    "        optimizer.step()\n",
    "\n",
    "        if batch % 100 == 0:\n",
    "            loss, current = loss.item(), (batch + 1) * len(X)\n",
    "            print(f\"loss: {loss:>7f}  [{current:>5d}/{size:>5d}]\")\n",
    "\n",
    "\n",
    "def test_loop(dataloader, model, loss_fn):\n",
    "    size = len(dataloader.dataset)\n",
    "    num_batches = len(dataloader)\n",
    "    test_loss, correct = 0, 0\n",
    "\n",
    "    with torch.no_grad():\n",
    "        for X, y in dataloader:\n",
    "            pred = model(X)\n",
    "            test_loss += loss_fn(pred, y).item()\n",
    "            correct += (pred.argmax(1) == y).type(torch.float).sum().item()\n",
    "\n",
    "    test_loss /= num_batches\n",
    "    correct /= size\n",
    "    print(\n",
    "        f\"Test Error: \\n Accuracy: {(100*correct):>0.1f}%, Avg loss: {test_loss:>8f} \\n\"\n",
    "    )\n"
   ]
  },
  {
   "cell_type": "code",
   "execution_count": 8,
   "metadata": {},
   "outputs": [],
   "source": [
    "model = NeuralNetwork()\n"
   ]
  },
  {
   "cell_type": "code",
   "execution_count": 9,
   "metadata": {},
   "outputs": [],
   "source": [
    "loss_fn = nn.CrossEntropyLoss()\n"
   ]
  },
  {
   "cell_type": "code",
   "execution_count": 15,
   "metadata": {},
   "outputs": [],
   "source": [
    "optimizer = torch.optim.SGD(model.parameters(), lr=LEARNING_RATE)\n"
   ]
  },
  {
   "cell_type": "code",
   "execution_count": 16,
   "metadata": {},
   "outputs": [
    {
     "name": "stdout",
     "output_type": "stream",
     "text": [
      "Epoch 1\n",
      "-------------------------------\n",
      "loss: 2.301961  [   64/60000]\n",
      "loss: 2.290491  [ 6464/60000]\n",
      "loss: 2.294580  [12864/60000]\n",
      "loss: 2.283357  [19264/60000]\n",
      "loss: 2.287991  [25664/60000]\n",
      "loss: 2.281233  [32064/60000]\n",
      "loss: 2.263251  [38464/60000]\n",
      "loss: 2.275008  [44864/60000]\n",
      "loss: 2.262614  [51264/60000]\n",
      "loss: 2.251699  [57664/60000]\n",
      "Test Error: \n",
      " Accuracy: 47.2%, Avg loss: 2.253463 \n",
      "\n",
      "Epoch 2\n",
      "-------------------------------\n",
      "loss: 2.255571  [   64/60000]\n",
      "loss: 2.240594  [ 6464/60000]\n",
      "loss: 2.253427  [12864/60000]\n",
      "loss: 2.220958  [19264/60000]\n",
      "loss: 2.236372  [25664/60000]\n",
      "loss: 2.227659  [32064/60000]\n",
      "loss: 2.203604  [38464/60000]\n",
      "loss: 2.227922  [44864/60000]\n",
      "loss: 2.197822  [51264/60000]\n",
      "loss: 2.184868  [57664/60000]\n",
      "Test Error: \n",
      " Accuracy: 60.9%, Avg loss: 2.185145 \n",
      "\n",
      "Epoch 3\n",
      "-------------------------------\n",
      "loss: 2.186968  [   64/60000]\n",
      "loss: 2.164454  [ 6464/60000]\n",
      "loss: 2.191865  [12864/60000]\n",
      "loss: 2.125302  [19264/60000]\n",
      "loss: 2.155245  [25664/60000]\n",
      "loss: 2.140745  [32064/60000]\n",
      "loss: 2.102566  [38464/60000]\n",
      "loss: 2.147311  [44864/60000]\n",
      "loss: 2.089568  [51264/60000]\n",
      "loss: 2.071601  [57664/60000]\n",
      "Test Error: \n",
      " Accuracy: 67.0%, Avg loss: 2.068831 \n",
      "\n",
      "Epoch 4\n",
      "-------------------------------\n",
      "loss: 2.069914  [   64/60000]\n",
      "loss: 2.033385  [ 6464/60000]\n",
      "loss: 2.085251  [12864/60000]\n",
      "loss: 1.965904  [19264/60000]\n",
      "loss: 2.014311  [25664/60000]\n",
      "loss: 1.987469  [32064/60000]\n",
      "loss: 1.928367  [38464/60000]\n",
      "loss: 2.004765  [44864/60000]\n",
      "loss: 1.905755  [51264/60000]\n",
      "loss: 1.878171  [57664/60000]\n",
      "Test Error: \n",
      " Accuracy: 71.5%, Avg loss: 1.870135 \n",
      "\n",
      "Epoch 5\n",
      "-------------------------------\n",
      "loss: 1.874587  [   64/60000]\n",
      "loss: 1.812534  [ 6464/60000]\n",
      "loss: 1.896618  [12864/60000]\n",
      "loss: 1.715527  [19264/60000]\n",
      "loss: 1.773843  [25664/60000]\n",
      "loss: 1.730817  [32064/60000]\n",
      "loss: 1.659270  [38464/60000]\n",
      "loss: 1.773310  [44864/60000]\n",
      "loss: 1.628332  [51264/60000]\n",
      "loss: 1.592543  [57664/60000]\n",
      "Test Error: \n",
      " Accuracy: 74.2%, Avg loss: 1.574002 \n",
      "\n",
      "Epoch 6\n",
      "-------------------------------\n",
      "loss: 1.596729  [   64/60000]\n",
      "loss: 1.496460  [ 6464/60000]\n",
      "loss: 1.607016  [12864/60000]\n",
      "loss: 1.393543  [19264/60000]\n",
      "loss: 1.441168  [25664/60000]\n",
      "loss: 1.394522  [32064/60000]\n",
      "loss: 1.330217  [38464/60000]\n",
      "loss: 1.474984  [44864/60000]\n",
      "loss: 1.316835  [51264/60000]\n",
      "loss: 1.274752  [57664/60000]\n",
      "Test Error: \n",
      " Accuracy: 76.8%, Avg loss: 1.247572 \n",
      "\n",
      "Epoch 7\n",
      "-------------------------------\n",
      "loss: 1.303733  [   64/60000]\n",
      "loss: 1.173887  [ 6464/60000]\n",
      "loss: 1.284665  [12864/60000]\n",
      "loss: 1.096695  [19264/60000]\n",
      "loss: 1.124255  [25664/60000]\n",
      "loss: 1.088120  [32064/60000]\n",
      "loss: 1.039394  [38464/60000]\n",
      "loss: 1.199054  [44864/60000]\n",
      "loss: 1.070612  [51264/60000]\n",
      "loss: 1.024348  [57664/60000]\n",
      "Test Error: \n",
      " Accuracy: 79.9%, Avg loss: 0.992417 \n",
      "\n",
      "Epoch 8\n",
      "-------------------------------\n",
      "loss: 1.077403  [   64/60000]\n",
      "loss: 0.940273  [ 6464/60000]\n",
      "loss: 1.029692  [12864/60000]\n",
      "loss: 0.890975  [19264/60000]\n",
      "loss: 0.902710  [25664/60000]\n",
      "loss: 0.875405  [32064/60000]\n",
      "loss: 0.835368  [38464/60000]\n",
      "loss: 1.000166  [44864/60000]\n",
      "loss: 0.908610  [51264/60000]\n",
      "loss: 0.863241  [57664/60000]\n",
      "Test Error: \n",
      " Accuracy: 81.8%, Avg loss: 0.823925 \n",
      "\n",
      "Epoch 9\n",
      "-------------------------------\n",
      "loss: 0.923172  [   64/60000]\n",
      "loss: 0.788889  [ 6464/60000]\n",
      "loss: 0.855478  [12864/60000]\n",
      "loss: 0.759823  [19264/60000]\n",
      "loss: 0.759617  [25664/60000]\n",
      "loss: 0.738412  [32064/60000]\n",
      "loss: 0.697930  [38464/60000]\n",
      "loss: 0.865861  [44864/60000]\n",
      "loss: 0.801348  [51264/60000]\n",
      "loss: 0.761391  [57664/60000]\n",
      "Test Error: \n",
      " Accuracy: 83.3%, Avg loss: 0.712880 \n",
      "\n",
      "Epoch 10\n",
      "-------------------------------\n",
      "loss: 0.816009  [   64/60000]\n",
      "loss: 0.686083  [ 6464/60000]\n",
      "loss: 0.735961  [12864/60000]\n",
      "loss: 0.673113  [19264/60000]\n",
      "loss: 0.662620  [25664/60000]\n",
      "loss: 0.648494  [32064/60000]\n",
      "loss: 0.601665  [38464/60000]\n",
      "loss: 0.773541  [44864/60000]\n",
      "loss: 0.725344  [51264/60000]\n",
      "loss: 0.694057  [57664/60000]\n",
      "Test Error: \n",
      " Accuracy: 84.5%, Avg loss: 0.636058 \n",
      "\n",
      "Done!\n"
     ]
    }
   ],
   "source": [
    "for t in range(EPOCHS):\n",
    "    print(f\"Epoch {t+1}\\n-------------------------------\")\n",
    "    train_loop(train_dataloader, model, loss_fn, optimizer)\n",
    "    test_loop(test_dataloader, model, loss_fn)\n",
    "print(\"Done!\")\n"
   ]
  },
  {
   "cell_type": "code",
   "execution_count": 17,
   "metadata": {},
   "outputs": [],
   "source": [
    "torch.save(model, \"model.pth\")\n"
   ]
  }
 ],
 "metadata": {
  "kernelspec": {
   "display_name": "Python 3",
   "language": "python",
   "name": "python3"
  },
  "language_info": {
   "codemirror_mode": {
    "name": "ipython",
    "version": 3
   },
   "file_extension": ".py",
   "mimetype": "text/x-python",
   "name": "python",
   "nbconvert_exporter": "python",
   "pygments_lexer": "ipython3",
   "version": "3.10.11"
  },
  "orig_nbformat": 4
 },
 "nbformat": 4,
 "nbformat_minor": 2
}
