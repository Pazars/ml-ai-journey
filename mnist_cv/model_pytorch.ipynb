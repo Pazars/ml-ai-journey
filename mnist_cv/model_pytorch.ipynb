{
 "cells": [
  {
   "attachments": {},
   "cell_type": "markdown",
   "metadata": {},
   "source": [
    "# MNIST model recreation\n",
    "\n",
    "This is a learning project.\n",
    "\n",
    "MNIST digit recognition is a solved problem, hence there is no need to reinvent the wheel.\n",
    "\n",
    "It is still a good learning resource for me as I'm familiar with the fundamentals but want to learn more about PyTorch and its workflow.\n",
    "\n",
    "The code here is inspired by:\n",
    "\n",
    "- [PyTorch: 'Learn the Basics' tutorial using Fashion MNIST](https://pytorch.org/tutorials/beginner/basics/intro.html).\n",
    "- [Kaggle: '25 Million Images! [0.99757] MNIST' notebook](https://www.kaggle.com/code/cdeotte/25-million-images-0-99757-mnist).\n",
    "- [Kaggle: 'MNIST Digits - PyTorch CNN, ~99%' notebook](https://www.kaggle.com/code/enwei26/mnist-digits-pytorch-cnn-99).\n",
    "- [Kaggle: 'CNN - Digit Recognizer (PyTorch)' notebook](https://www.kaggle.com/code/gustafsilva/cnn-digit-recognizer-pytorch/notebook)"
   ]
  },
  {
   "cell_type": "markdown",
   "metadata": {},
   "source": []
  },
  {
   "cell_type": "code",
   "execution_count": 182,
   "metadata": {},
   "outputs": [],
   "source": [
    "# TODO: Learn more about\n",
    "\n",
    "# Advanced techniques include:\n",
    "#     - data augmentation (covered)\n",
    "#     - nonlinear convolution layers (covered)\n",
    "#     - learnable pooling layers (covered)\n",
    "#     - ReLU activation\n",
    "#     - ensembling\n",
    "#     - bagging\n",
    "#     - decaying learning rates (covered)\n",
    "#     - dropout\n",
    "#     - batch normalization (covered)\n",
    "#     - adam optimization (covered)\n"
   ]
  },
  {
   "cell_type": "code",
   "execution_count": 183,
   "metadata": {},
   "outputs": [],
   "source": [
    "import torch\n",
    "import copy\n",
    "import time\n",
    "\n",
    "import matplotlib.pyplot as plt\n",
    "\n",
    "from torch import nn\n",
    "from torch.utils.data import DataLoader\n",
    "from torchvision import datasets, transforms\n",
    "from torchvision.transforms import ToTensor\n"
   ]
  },
  {
   "cell_type": "code",
   "execution_count": 199,
   "metadata": {},
   "outputs": [],
   "source": [
    "LEARNING_RATE = 1e-3\n",
    "BATCH_SIZE = 64\n",
    "EPOCHS = 35\n",
    "EARLY_STOPPING_ROUNDS = 5\n"
   ]
  },
  {
   "cell_type": "code",
   "execution_count": 210,
   "metadata": {},
   "outputs": [],
   "source": [
    "if torch.cuda.is_available():\n",
    "    torch.set_default_device(\"cuda\")\n",
    "    device = \"cuda\"\n",
    "else:\n",
    "    torch.set_default_device(\"cpu\")\n",
    "    device = \"cpu\"\n"
   ]
  },
  {
   "cell_type": "code",
   "execution_count": 209,
   "metadata": {},
   "outputs": [
    {
     "data": {
      "text/plain": [
       "device(type='cpu')"
      ]
     },
     "execution_count": 209,
     "metadata": {},
     "output_type": "execute_result"
    }
   ],
   "source": [
    "torch.randn(1).device\n"
   ]
  },
  {
   "attachments": {},
   "cell_type": "markdown",
   "metadata": {},
   "source": [
    "## Loading and augmenting data\n",
    "\n",
    "**Data augmentation**: technique to artificially create new training data from existing training data\n",
    "\n",
    "Augmentation is usually done online! This means that only the raw dataset is stored in the memory. When a batch of raw data is loaded, it is augmented on the fly, used for training, and then released from operative memory.\n",
    "\n",
    "Always important to ask: does this augmentation change image labels? If yes, noise is introduced in models and performance is reduced.\n",
    "\n",
    "Both PyTorch and TensorFlow default implementations augment only images, but not labels. For label augmentation could use [Albumentations](https://albumentations.ai/)."
   ]
  },
  {
   "cell_type": "code",
   "execution_count": 185,
   "metadata": {},
   "outputs": [],
   "source": [
    "# My own data augmentation transform\n",
    "train_transform1 = transforms.Compose(\n",
    "    [\n",
    "        transforms.RandomHorizontalFlip(),\n",
    "        transforms.RandomRotation(10),\n",
    "        transforms.ToTensor(),\n",
    "    ]\n",
    ")\n",
    "\n",
    "# Data augmentation transform from 'MNIST Digits - PyTorch CNN, ~99%' notebook\n",
    "# Removed the Normalize step because mean and std unknown at this point\n",
    "# Also removed the PIL step because it messes up other steps\n",
    "train_transform2 = transforms.Compose(\n",
    "    [\n",
    "        # transforms.ToPILImage(),\n",
    "        transforms.RandomAffine(degrees=20, translate=(0.1, 0.1), scale=(0.9, 1.1)),\n",
    "        transforms.ColorJitter(brightness=0.2, contrast=0.2),\n",
    "        transforms.ToTensor(),\n",
    "        # transforms.Normalize(mean=[train_mean], std=[train_std]),\n",
    "    ]\n",
    ")\n"
   ]
  },
  {
   "cell_type": "code",
   "execution_count": 186,
   "metadata": {},
   "outputs": [],
   "source": [
    "# Download training and test data\n",
    "\n",
    "training_data = datasets.MNIST(\n",
    "    root=\"data\", train=True, download=True, transform=ToTensor()\n",
    ")\n",
    "\n",
    "test_data = datasets.MNIST(\n",
    "    root=\"data\", train=False, download=True, transform=ToTensor()\n",
    ")\n"
   ]
  },
  {
   "cell_type": "code",
   "execution_count": 187,
   "metadata": {},
   "outputs": [
    {
     "data": {
      "text/plain": [
       "(torch.Size([1, 28, 28]), torch.Size([1, 28, 28]))"
      ]
     },
     "execution_count": 187,
     "metadata": {},
     "output_type": "execute_result"
    }
   ],
   "source": [
    "# Check image dimensions\n",
    "\n",
    "training_img, training_label = training_data[0]\n",
    "test_img, test_label = test_data[0]\n",
    "\n",
    "training_img.shape, test_img.shape\n"
   ]
  },
  {
   "cell_type": "code",
   "execution_count": 188,
   "metadata": {},
   "outputs": [
    {
     "data": {
      "text/plain": [
       "938"
      ]
     },
     "execution_count": 188,
     "metadata": {},
     "output_type": "execute_result"
    }
   ],
   "source": [
    "train_dl = DataLoader(training_data, batch_size=BATCH_SIZE)\n",
    "test_dl = DataLoader(test_data, batch_size=BATCH_SIZE)\n",
    "\n",
    "len(train_dl)\n"
   ]
  },
  {
   "cell_type": "code",
   "execution_count": 189,
   "metadata": {},
   "outputs": [
    {
     "data": {
      "image/png": "[encoded data removed]",
      "text/plain": [
       "<Figure size 1500x450 with 30 Axes>"
      ]
     },
     "metadata": {},
     "output_type": "display_data"
    }
   ],
   "source": [
    "# Preview images and augmentations\n",
    "plt.figure(figsize=(15, 4.5))\n",
    "\n",
    "for idx in range(30):\n",
    "    plt.subplot(3, 10, idx + 1)\n",
    "    img, label = training_data[idx]\n",
    "    plt.imshow(img.reshape((28, 28)), cmap=plt.cm.binary)\n",
    "    plt.axis(\"off\")\n",
    "\n",
    "plt.subplots_adjust(wspace=-0.1, hspace=-0.1)\n"
   ]
  },
  {
   "attachments": {},
   "cell_type": "markdown",
   "metadata": {},
   "source": [
    "## Learning about CNN architecture components\n",
    "\n",
    "[Kaggle: How to choose CNN Architecture MNIST](https://www.kaggle.com/code/cdeotte/how-to-choose-cnn-architecture-mnist/notebook)\n",
    "\n",
    "- Typical CNN architecture begins with feature extraction and finishes with classification.\n",
    "    - Feature extraction is performed by alternating convolution layers with subsampling layers\n",
    "    - Classification is performed with dense layers followed by a final softmax layer\n",
    "\n",
    "Other notes:\n",
    "\n",
    "LeNet (LeNet-5) is a Convolutional Neural Network architecture proposed by Yann Lecun in 1998\n",
    "\n",
    "It is described in detail in the paper *\"Gradient-based learning applied to document recognition\"*"
   ]
  },
  {
   "cell_type": "code",
   "execution_count": 203,
   "metadata": {},
   "outputs": [
    {
     "name": "stdout",
     "output_type": "stream",
     "text": [
      "BetterNeuralNetwork(\n",
      "  (conv1): Sequential(\n",
      "    (0): Conv2d(1, 32, kernel_size=(3, 3), stride=(1, 1))\n",
      "    (1): ReLU()\n",
      "    (2): BatchNorm2d(32, eps=1e-05, momentum=0.1, affine=True, track_running_stats=True)\n",
      "    (3): Conv2d(32, 32, kernel_size=(3, 3), stride=(1, 1))\n",
      "    (4): ReLU()\n",
      "    (5): BatchNorm2d(32, eps=1e-05, momentum=0.1, affine=True, track_running_stats=True)\n",
      "    (6): Conv2d(32, 32, kernel_size=(5, 5), stride=(2, 2))\n",
      "    (7): ReLU()\n",
      "    (8): BatchNorm2d(32, eps=1e-05, momentum=0.1, affine=True, track_running_stats=True)\n",
      "    (9): Dropout(p=0.4, inplace=False)\n",
      "  )\n",
      "  (conv2): Sequential(\n",
      "    (0): Conv2d(32, 64, kernel_size=(3, 3), stride=(1, 1))\n",
      "    (1): ReLU()\n",
      "    (2): BatchNorm2d(64, eps=1e-05, momentum=0.1, affine=True, track_running_stats=True)\n",
      "    (3): Conv2d(64, 64, kernel_size=(3, 3), stride=(1, 1))\n",
      "    (4): ReLU()\n",
      "    (5): BatchNorm2d(64, eps=1e-05, momentum=0.1, affine=True, track_running_stats=True)\n",
      "    (6): Conv2d(64, 64, kernel_size=(5, 5), stride=(2, 2))\n",
      "    (7): ReLU()\n",
      "    (8): BatchNorm2d(64, eps=1e-05, momentum=0.1, affine=True, track_running_stats=True)\n",
      "    (9): Dropout(p=0.4, inplace=False)\n",
      "  )\n",
      "  (dense): Sequential(\n",
      "    (0): Flatten(start_dim=1, end_dim=-1)\n",
      "    (1): Linear(in_features=64, out_features=128, bias=True)\n",
      "    (2): ReLU()\n",
      "    (3): BatchNorm1d(128, eps=1e-05, momentum=0.1, affine=True, track_running_stats=True)\n",
      "    (4): Dropout(p=0.4, inplace=False)\n",
      "    (5): Linear(in_features=128, out_features=10, bias=True)\n",
      "    (6): Softmax(dim=-1)\n",
      "  )\n",
      ")\n"
     ]
    }
   ],
   "source": [
    "# Architecture from PyTorch tutorial\n",
    "class NeuralNetwork(nn.Module):\n",
    "    def __init__(self):\n",
    "        super(NeuralNetwork, self).__init__()\n",
    "        self.flatten = nn.Flatten()\n",
    "        self.linear_relu_stack = nn.Sequential(\n",
    "            nn.Linear(28 * 28, 512),\n",
    "            nn.ReLU(),\n",
    "            nn.Linear(512, 512),\n",
    "            nn.ReLU(),\n",
    "            nn.Linear(512, 10),\n",
    "        )\n",
    "\n",
    "    def forward(self, x):\n",
    "        x = self.flatten(x)\n",
    "        logits = self.linear_relu_stack(x)\n",
    "        return logits\n",
    "\n",
    "\n",
    "# Architecture from the Kaggle notebook\n",
    "class BetterNeuralNetwork(nn.Module):\n",
    "    def __init__(self):\n",
    "        super(BetterNeuralNetwork, self).__init__()\n",
    "\n",
    "        self.conv1 = nn.Sequential(\n",
    "            # Two 3x3 conv filters followed by a 5x5 stride 2 conv filter\n",
    "            # Effectively a 5x5 conv with max pooling\n",
    "            nn.Conv2d(1, 32, 3),\n",
    "            nn.ReLU(),\n",
    "            nn.BatchNorm2d(32),\n",
    "            nn.Conv2d(32, 32, 3),\n",
    "            nn.ReLU(),\n",
    "            nn.BatchNorm2d(32),\n",
    "            nn.Conv2d(32, 32, 5, stride=2),\n",
    "            nn.ReLU(),\n",
    "            nn.BatchNorm2d(32),\n",
    "            nn.Dropout(0.4),\n",
    "        )\n",
    "\n",
    "        # Same as before with twice as many features\n",
    "        self.conv2 = nn.Sequential(\n",
    "            nn.Conv2d(32, 64, 3),\n",
    "            nn.ReLU(),\n",
    "            nn.BatchNorm2d(64),\n",
    "            nn.Conv2d(64, 64, 3),\n",
    "            nn.ReLU(),\n",
    "            nn.BatchNorm2d(64),\n",
    "            nn.Conv2d(64, 64, 5, stride=2),\n",
    "            nn.ReLU(),\n",
    "            nn.BatchNorm2d(64),\n",
    "            nn.Dropout(0.4),\n",
    "        )\n",
    "\n",
    "        self.dense = nn.Sequential(\n",
    "            nn.Flatten(),\n",
    "            nn.Linear(64, 128),\n",
    "            nn.ReLU(),\n",
    "            nn.BatchNorm1d(128),\n",
    "            nn.Dropout(0.4),\n",
    "            nn.Linear(128, 10),\n",
    "            nn.Softmax(dim=-1),\n",
    "        )\n",
    "\n",
    "    def forward(self, x):\n",
    "        x = self.conv1(x)\n",
    "        x = self.conv2(x)\n",
    "        x = self.dense(x)\n",
    "        return x\n",
    "\n",
    "\n",
    "print(BetterNeuralNetwork())\n"
   ]
  },
  {
   "cell_type": "code",
   "execution_count": 204,
   "metadata": {},
   "outputs": [
    {
     "name": "stdout",
     "output_type": "stream",
     "text": [
      "Initial epoch\n",
      "Training loss: 2.311581  [   64/60000]\n",
      "Training loss: 2.301655  [ 6464/60000]\n",
      "Training loss: 2.299824  [12864/60000]\n",
      "Training loss: 2.289170  [19264/60000]\n",
      "Training loss: 2.280850  [25664/60000]\n",
      "Training loss: 2.275004  [32064/60000]\n",
      "Training loss: 2.221548  [38464/60000]\n",
      "Training loss: 2.245828  [44864/60000]\n",
      "Training loss: 2.234941  [51264/60000]\n",
      "Training loss: 2.212906  [57664/60000]\n",
      "Epoch: 1/2..  Time: 108.20s.. Training loss: 2.219..  Test loss: 2.202..  Test accuracy: 0.340\n",
      "Epoch: 2/2..  Time: 108.48s.. Training loss: 2.041..  Test loss: 2.060..  Test accuracy: 0.553\n"
     ]
    }
   ],
   "source": [
    "model = BetterNeuralNetwork()\n",
    "loss_fn = nn.CrossEntropyLoss()\n",
    "optimizer = torch.optim.SGD(model.parameters(), lr=LEARNING_RATE)\n",
    "\n",
    "train_loss_history = []\n",
    "test_loss_history = []\n",
    "test_accuracy_history = []\n",
    "\n",
    "best_test_loss = float(\"Inf\")\n",
    "rounds = 0\n",
    "\n",
    "for epoch in range(1, EPOCHS + 1):\n",
    "    epoch_start_time = time.time()\n",
    "\n",
    "    if epoch == 1:\n",
    "        print(f\"Initial epoch\")\n",
    "\n",
    "    # Training step\n",
    "    train_size = len(train_dl.dataset)\n",
    "    for batch, (X, y) in enumerate(train_dl):\n",
    "        X, y = X.to(device), y.to(device)\n",
    "\n",
    "        # Compute prediction and loss\n",
    "        pred = model(X)\n",
    "        train_loss = loss_fn(pred, y)\n",
    "\n",
    "        # Backpropagation\n",
    "        optimizer.zero_grad()\n",
    "        train_loss.backward()\n",
    "        optimizer.step()\n",
    "\n",
    "        if batch % 100 == 0 and epoch == 1:\n",
    "            current = (batch + 1) * len(X)\n",
    "            print(\n",
    "                f\"Training loss: {train_loss.item():>7f}  [{current:>5d}/{train_size:>5d}]\"\n",
    "            )\n",
    "\n",
    "    train_loss_history.append(train_loss.item())\n",
    "\n",
    "    # Test step\n",
    "    test_size = len(test_dl.dataset)\n",
    "    num_batches = len(test_dl)\n",
    "\n",
    "    test_loss = 0\n",
    "    test_accuracy = 0\n",
    "\n",
    "    with torch.no_grad():\n",
    "        for X, y in test_dl:\n",
    "            X, y = X.to(device), y.to(device)\n",
    "\n",
    "            # Forward pass\n",
    "            pred = model(X)\n",
    "\n",
    "            # Calculate loss (.item() gets value from tensor)\n",
    "            test_loss += loss_fn(pred, y).item()\n",
    "\n",
    "            # Calculate prediction accuracy\n",
    "            test_accuracy += (pred.argmax(1) == y).type(torch.float).sum().item()\n",
    "\n",
    "    test_loss /= num_batches\n",
    "    test_accuracy /= test_size\n",
    "\n",
    "    print(\n",
    "        \"Epoch: {}/{}.. \".format(epoch, EPOCHS),\n",
    "        \"Time: {:.2f}s..\".format(time.time() - epoch_start_time),\n",
    "        \"Training loss: {:.3f}.. \".format(train_loss_history[-1]),\n",
    "        \"Test loss: {:.3f}.. \".format(test_loss),\n",
    "        \"Test accuracy: {:.3f}\".format(test_accuracy),\n",
    "    )\n",
    "\n",
    "    # Track if test loss is decreasing and save best performing model weights\n",
    "    if test_loss < best_test_loss:\n",
    "        best_test_loss = test_loss\n",
    "        rounds = 0\n",
    "        best_model_weights = copy.deepcopy(model.state_dict())\n",
    "    else:\n",
    "        rounds += 1\n",
    "\n",
    "    test_loss_history.append(test_loss)\n",
    "    test_accuracy_history.append(test_accuracy)\n",
    "\n",
    "    # Stop the training if model has not improved for a while to avoid overfitting\n",
    "    if rounds >= EARLY_STOPPING_ROUNDS:\n",
    "        print(\"Early stopping.\")\n",
    "        model.load_state_dict(best_model_weights)\n",
    "        break\n"
   ]
  },
  {
   "attachments": {},
   "cell_type": "markdown",
   "metadata": {},
   "source": [
    "Accuracy:\n",
    "\n",
    "1. *NeuralNetwork* without any data augmentations and 10 epochs: ~84.5%\n",
    "2. *NeuralNetwork* with data augmentations from *train_transform1* and 10 epochs: ~75.5%\n",
    "3. *BetterNeuralNetwork* without any data augmentations and 35 epochs: ~97.6% (Google Colab run on GPU)"
   ]
  },
  {
   "cell_type": "code",
   "execution_count": 192,
   "metadata": {},
   "outputs": [],
   "source": [
    "torch.save(model, \"model.pth\")\n"
   ]
  },
  {
   "cell_type": "code",
   "execution_count": 194,
   "metadata": {},
   "outputs": [
    {
     "data": {
      "text/plain": [
       "<matplotlib.legend.Legend at 0x1e09bf17e20>"
      ]
     },
     "execution_count": 194,
     "metadata": {},
     "output_type": "execute_result"
    },
    {
     "data": {
      "image/png": "[encoded data removed]",
      "text/plain": [
       "<Figure size 1500x500 with 2 Axes>"
      ]
     },
     "metadata": {},
     "output_type": "display_data"
    }
   ],
   "source": [
    "# Viewing training information\n",
    "%matplotlib inline\n",
    "\n",
    "fig, (ax1, ax2) = plt.subplots(1, 2, figsize=(15, 5))\n",
    "\n",
    "ax1.plot(train_loss_history, label='Training loss')\n",
    "ax1.plot(test_loss_history, label='Test loss')\n",
    "ax1.grid()\n",
    "ax1.set_ylabel(loss_fn.__class__.__name__)\n",
    "ax1.set_xlabel('Epoch')\n",
    "ax1.legend()\n",
    "\n",
    "ax2.plot(test_accuracy_history, label='Test set')\n",
    "ax2.grid()\n",
    "ax2.set_xlabel('Epoch')\n",
    "ax2.set_ylabel('Accuracy')\n",
    "ax2.legend()"
   ]
  }
 ],
 "metadata": {
  "kernelspec": {
   "display_name": "Python 3",
   "language": "python",
   "name": "python3"
  },
  "language_info": {
   "codemirror_mode": {
    "name": "ipython",
    "version": 3
   },
   "file_extension": ".py",
   "mimetype": "text/x-python",
   "name": "python",
   "nbconvert_exporter": "python",
   "pygments_lexer": "ipython3",
   "version": "3.10.11"
  },
  "orig_nbformat": 4
 },
 "nbformat": 4,
 "nbformat_minor": 2
}
